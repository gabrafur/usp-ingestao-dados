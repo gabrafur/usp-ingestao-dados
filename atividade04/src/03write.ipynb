{
 "cells": [
  {
   "cell_type": "code",
   "execution_count": 2,
   "metadata": {},
   "outputs": [],
   "source": [
    "columns_rename = {\n",
    "    \"BanksTransformation\": {\n",
    "        \"Segmento\" : \"segmento\",\n",
    "        \"CNPJ\": \"cnpj\",\n",
    "        \"Nome\": \"nome\"\n",
    "    },\n",
    "    \"EmployeesTransformation\": {\n",
    "        \"employer-website\" : \"employer_website\",\n",
    "        \"employer-headquarters\": \"employer_headquarters\",\n",
    "        \"employer-founded\": \"employer_founded\",\n",
    "        \"employer-industry\": \"employer_industry\",\n",
    "        \"employer-revenue\": \"employer_revenue\",\n",
    "        \"Geral\": \"geral\",\n",
    "        \"Cultura e valores\": \"cultura_valores\",\n",
    "        \"Diversidade e inclus�o\": \"diversidade_inclusao\",\n",
    "        \"Qualidade de vida\": \"qualidade_vida\",\n",
    "        \"Alta lideran�a\": \"alta_lideranca\",\n",
    "        \"Remunera��o e benef�cios\": \"remuneracao_beneficios\",\n",
    "        \"Oportunidades de carreira\": \"oportunidades_carreira\",\n",
    "        \"Recomendam para outras pessoas(%)\": \"percentual_recomendam_para_outras_pessoas\",\n",
    "        \"Perspectiva positiva da empresa(%)\": \"percentual_perspectiva_positiva_empresa\",\n",
    "#         \"CNPJ\": \"cnpj\",\n",
    "        \"Nome\": \"nome\",\n",
    "        \"Segmento\": \"segmento\"\n",
    "    },\n",
    "    \"ComplaintsTransformation\": {\n",
    "        \"Ano\" : \"ano\",\n",
    "        \"Trimestre\": \"trimestre\",\n",
    "        \"Categoria\": \"categoria\",\n",
    "        \"Tipo\": \"tipo\",\n",
    "        \"CNPJ IF\": \"cnpj_if\",\n",
    "        \"Institui��o financeira\": \"instituicao_financeira\",\n",
    "        \"�ndice\": \"indice\",\n",
    "        \"Quantidade de reclama��es reguladas procedentes\": \"qtd_reclamacoes_reguladas_procedentes\",\n",
    "        \"Quantidade de reclama��es reguladas - outras\": \"qtd_reclamacoes_reguladas_outras\",\n",
    "        \"Quantidade de reclama��es n�o reguladas\": \"qtd_reclamacoes_nao_reguladas\",\n",
    "        \"Quantidade total de reclama��es\": \"qtd_total_reclamacoes\",\n",
    "        \"Quantidade total de clientes - CCS e SCR\": \"qtd_total_clientes_ccs_scr\",\n",
    "        \"Quantidade de clientes - CCS\": \"qtd_clientes_ccs\",\n",
    "        \"Quantidade de clientes - SCR\": \"qtd_clientes_scr\"\n",
    "    }\n",
    "}"
   ]
  },
  {
   "cell_type": "code",
   "execution_count": 3,
   "metadata": {},
   "outputs": [
    {
     "data": {
      "text/plain": [
       "{'BanksTransformation': {'Segmento': 'segmento',\n",
       "  'CNPJ': 'cnpj',\n",
       "  'Nome': 'nome'},\n",
       " 'EmployeesTransformation': {'employer-website': 'employer_website',\n",
       "  'employer-headquarters': 'employer_headquarters',\n",
       "  'employer-founded': 'employer_founded',\n",
       "  'employer-industry': 'employer_industry',\n",
       "  'employer-revenue': 'employer_revenue',\n",
       "  'Geral': 'geral',\n",
       "  'Cultura e valores': 'cultura_valores',\n",
       "  'Diversidade e inclus�o': 'diversidade_inclusao',\n",
       "  'Qualidade de vida': 'qualidade_vida',\n",
       "  'Alta lideran�a': 'alta_lideranca',\n",
       "  'Remunera��o e benef�cios': 'remuneracao_beneficios',\n",
       "  'Oportunidades de carreira': 'oportunidades_carreira',\n",
       "  'Recomendam para outras pessoas(%)': 'percentual_recomendam_para_outras_pessoas',\n",
       "  'Perspectiva positiva da empresa(%)': 'percentual_perspectiva_positiva_empresa',\n",
       "  'Nome': 'nome',\n",
       "  'Segmento': 'segmento'},\n",
       " 'ComplaintsTransformation': {'Ano': 'ano',\n",
       "  'Trimestre': 'trimestre',\n",
       "  'Categoria': 'categoria',\n",
       "  'Tipo': 'tipo',\n",
       "  'CNPJ IF': 'cnpj_if',\n",
       "  'Institui��o financeira': 'instituicao_financeira',\n",
       "  '�ndice': 'indice',\n",
       "  'Quantidade de reclama��es reguladas procedentes': 'qtd_reclamacoes_reguladas_procedentes',\n",
       "  'Quantidade de reclama��es reguladas - outras': 'qtd_reclamacoes_reguladas_outras',\n",
       "  'Quantidade de reclama��es n�o reguladas': 'qtd_reclamacoes_nao_reguladas',\n",
       "  'Quantidade total de reclama��es': 'qtd_total_reclamacoes',\n",
       "  'Quantidade total de clientes - CCS e SCR': 'qtd_total_clientes_ccs_scr',\n",
       "  'Quantidade de clientes - CCS': 'qtd_clientes_ccs',\n",
       "  'Quantidade de clientes - SCR': 'qtd_clientes_scr'}}"
      ]
     },
     "execution_count": 3,
     "metadata": {},
     "output_type": "execute_result"
    }
   ],
   "source": []
  },
  {
   "cell_type": "code",
   "execution_count": 79,
   "metadata": {},
   "outputs": [
    {
     "name": "stdout",
     "output_type": "stream",
     "text": [
      "Calculation started (calculation_id=fcc51213-431b-58be-1ae4-9055716ea66a) in (session=10c511e9-f28c-dd73-bdeb-d9a2fcff333a). Checking calculation status...\n"
     ]
    },
    {
     "data": {
      "application/vnd.jupyter.widget-view+json": {
       "model_id": "2d2a4b6bd5714ece81abb50ebe1a7611",
       "version_major": 2,
       "version_minor": 0
      },
      "text/plain": [
       "Progress:   0%|          |elapsed time = 00:00s"
      ]
     },
     "metadata": {},
     "output_type": "display_data"
    },
    {
     "name": "stdout",
     "output_type": "stream",
     "text": [
      "Calculation completed.\n"
     ]
    }
   ],
   "source": [
    "import os\n",
    "\n",
    "class DataWriter:\n",
    "    def write_parquet(self, df, output_directory, mode=\"overwrite\", repartition=True):\n",
    "        if repartition:\n",
    "            df.repartition(1).write.mode(mode).parquet(output_directory)\n",
    "        else:\n",
    "            df.write.mode(mode).parquet(output_directory)\n",
    "            \n"
   ]
  },
  {
   "cell_type": "code",
   "execution_count": 80,
   "metadata": {},
   "outputs": [
    {
     "name": "stdout",
     "output_type": "stream",
     "text": [
      "Calculation started (calculation_id=0cc51213-4865-7c96-c1d0-084a040cd570) in (session=10c511e9-f28c-dd73-bdeb-d9a2fcff333a). Checking calculation status...\n"
     ]
    },
    {
     "data": {
      "application/vnd.jupyter.widget-view+json": {
       "model_id": "6f88016c95fa4cfdae43fd6a82a57684",
       "version_major": 2,
       "version_minor": 0
      },
      "text/plain": [
       "Progress:   0%|          |elapsed time = 00:00s"
      ]
     },
     "metadata": {},
     "output_type": "display_data"
    },
    {
     "name": "stdout",
     "output_type": "stream",
     "text": [
      "Calculation completed.\n"
     ]
    }
   ],
   "source": [
    "from pyspark.sql import DataFrame\n",
    "\n",
    "class UnsupportedFileType(Exception):\n",
    "    def __init__(self, file_type):\n",
    "        self.file_type = file_type\n",
    "        self.message = f\"File(s) of type {file_type} not supported\"\n",
    "        super().__init__(self.message)\n",
    "\n",
    "class LoadData:\n",
    "    def __init__(self, spark, file_directory: list, file_type: str, separator: str = ';', header: bool = True, encoding='utf-8'):\n",
    "        self.file_directory = file_directory\n",
    "        self.file_type = file_type\n",
    "        self.separator = separator\n",
    "        self.spark = spark\n",
    "        self.header = header\n",
    "        self.encoding = encoding\n",
    "\n",
    "    def load(self) -> DataFrame:\n",
    "        if self.file_type in ('csv', 'tsv'):\n",
    "            return \\\n",
    "                self.spark.read.options(\n",
    "                    delimiter=self.separator,\n",
    "                    header=self.header,\n",
    "                    encoding=self.encoding\n",
    "                ).csv(self.file_directory)\n",
    "        else:\n",
    "            raise UnsupportedFileType(self.file_type)"
   ]
  },
  {
   "cell_type": "code",
   "execution_count": 81,
   "metadata": {},
   "outputs": [
    {
     "name": "stdout",
     "output_type": "stream",
     "text": [
      "Calculation started (calculation_id=72c51213-49e8-0e5c-8bce-bb7a65cab86f) in (session=10c511e9-f28c-dd73-bdeb-d9a2fcff333a). Checking calculation status...\n"
     ]
    },
    {
     "data": {
      "application/vnd.jupyter.widget-view+json": {
       "model_id": "29b4802e74c74612aa8131bc992efc34",
       "version_major": 2,
       "version_minor": 0
      },
      "text/plain": [
       "Progress:   0%|          |elapsed time = 00:00s"
      ]
     },
     "metadata": {},
     "output_type": "display_data"
    },
    {
     "name": "stdout",
     "output_type": "stream",
     "text": [
      "Calculation completed.\n"
     ]
    }
   ],
   "source": [
    "from abc import ABC, abstractmethod\n",
    "import pyspark.sql.functions as F\n",
    "from pyspark.sql.types import *\n",
    "from pyspark.sql import DataFrame\n",
    "import os\n",
    "\n",
    "\n",
    "class TransformData(ABC):\n",
    "    \"\"\"\n",
    "    Gathers general functions for all transformations.\n",
    "    \"\"\"\n",
    "    def format_cnpj(self, value):\n",
    "        return F.when((value == ' ') | (value == ''), value).otherwise(F.lpad(value, 8, '0'))\n",
    "\n",
    "\n",
    "    def load_column_rename_mappings(self, transformation_name):\n",
    "#         json_file_path = os.path.join(os.path.dirname(__file__), 'column_rename.json')\n",
    "        column_rename_mappings = column_rename\n",
    "        return column_rename_mappings.get(transformation_name, {})\n",
    "\n",
    "\n",
    "    def rename_columns(self, df: DataFrame, column_rename) -> DataFrame:\n",
    "        for old_name, new_name in column_rename.items():\n",
    "            df = df.withColumnRenamed(old_name, new_name)\n",
    "        return df\n",
    "\n",
    "\n",
    "    @abstractmethod\n",
    "    def transform(self) -> DataFrame:\n",
    "        pass\n",
    "\n",
    "\n",
    "class BanksTransformation(TransformData):\n",
    "    \"\"\"\n",
    "    Functions for transforming the pandas dataframe for banks.\n",
    "    \"\"\"\n",
    "    def __init__(self, df: DataFrame):\n",
    "        \"\"\"\n",
    "        Receives the dataframe.\n",
    "        \"\"\"\n",
    "        self.df = df\n",
    "        self.column_rename = self.load_column_rename_mappings('BanksTransformation')\n",
    "\n",
    "\n",
    "\n",
    "    def transform(self) -> DataFrame:\n",
    "        \"\"\"\n",
    "        Function to rename (to snake_case), format, and adjust data in the 'Segment', 'CNPJ', and 'Name' columns.\n",
    "        Returns a dataframe.\n",
    "        \"\"\"\n",
    "        transformed_df = self.rename_columns(self.df, self.column_rename)\n",
    "        transformed_df = transformed_df.withColumn(\"cnpj\", self.format_cnpj(F.col(\"cnpj\")))\n",
    "        transformed_df = transformed_df.withColumn(\"nome\", F.regexp_replace(F.col(\"nome\").cast(StringType()), ' - PRUDENCIAL', ''))\n",
    "        return transformed_df\n",
    "\n",
    "\n",
    "class EmployeesTransformation(TransformData):\n",
    "    \"\"\"\n",
    "    Functions for transforming the pandas dataframe for employees.\n",
    "    \"\"\"\n",
    "    def __init__(self, df: DataFrame):\n",
    "        \"\"\"\n",
    "        Receives the dataframe.\n",
    "        \"\"\"\n",
    "        self.df = df\n",
    "        self.column_rename = self.load_column_rename_mappings('EmployeesTransformation')\n",
    "\n",
    "\n",
    "    def transform(self) -> DataFrame:\n",
    "        \"\"\"\n",
    "        Function to rename (to snake_case), format, and change data types.\n",
    "        Returns a dataframe.\n",
    "        \"\"\"\n",
    "        transformed_df = self.rename_columns(self.df, self.column_rename)\n",
    "\n",
    "        transformed_df = transformed_df\\\n",
    "            .withColumn(\"employer_name\", F.col('employer_name').cast(StringType()))\\\n",
    "            .withColumn(\"reviews_count\", F.col('reviews_count').cast(IntegerType()))\\\n",
    "            .withColumn(\"culture_count\", F.col('culture_count').cast(IntegerType()))\\\n",
    "            .withColumn(\"salaries_count\", F.col('salaries_count').cast(IntegerType()))\\\n",
    "            .withColumn(\"benefits_count\", F.col('benefits_count').cast(IntegerType()))\\\n",
    "            .withColumn(\"employer_website\", F.col('employer_website').cast(StringType()))\\\n",
    "            .withColumn(\"employer_headquarters\", F.col('employer_headquarters').cast(StringType()))\\\n",
    "            .withColumn(\"employer_founded\", F.col('employer_founded').cast(IntegerType()))\\\n",
    "            .withColumn(\"employer_industry\", F.col('employer_industry').cast(StringType()))\\\n",
    "            .withColumn(\"employer_revenue\", F.col('employer_revenue').cast(StringType()))\\\n",
    "            .withColumn(\"url\", F.col('url').cast(StringType()))\\\n",
    "            .withColumn(\"geral\", F.col('geral').cast(DecimalType(20,2)))\\\n",
    "            .withColumn(\"cultura_valores\", F.col('cultura_valores').cast(DecimalType(20,2)))\\\n",
    "            .withColumn(\"diversidade_inclusao\", F.col('diversidade_inclusao').cast(DecimalType(20,2)))\\\n",
    "            .withColumn(\"qualidade_vida\", F.col('qualidade_vida').cast(DecimalType(20,2)))\\\n",
    "            .withColumn(\"alta_lideranca\", F.col('alta_lideranca').cast(DecimalType(20,2)))\\\n",
    "            .withColumn(\"remuneracao_beneficios\", F.col('remuneracao_beneficios').cast(DecimalType(20,2)))\\\n",
    "            .withColumn(\"oportunidades_carreira\", F.col('oportunidades_carreira').cast(DecimalType(20,2)))\\\n",
    "            .withColumn(\"percentual_recomendam_para_outras_pessoas\", F.col('percentual_recomendam_para_outras_pessoas').cast(DecimalType(20,2)))\\\n",
    "            .withColumn(\"percentual_perspectiva_positiva_empresa\", F.col('percentual_perspectiva_positiva_empresa').cast(DecimalType(20,2)))\\\n",
    "            .withColumn(\"nome\", F.col('nome').cast(StringType()))\\\n",
    "            .withColumn(\"segmento\", F.col('segmento').cast(StringType()))\\\n",
    "            .withColumn(\"match_percent\", F.col('match_percent').cast(FloatType()))\n",
    "        #             .withColumn('cnpj', self.format_cnpj(F.col(\"cnpj\")))\\\n",
    "\n",
    "\n",
    "        return transformed_df\n",
    "\n",
    "\n",
    "    def calculate_aggregates(self, df) -> DataFrame:\n",
    "        \"\"\"\n",
    "        Function to return a pandas dataframe of a pivot table grouped by the 'name' column,\n",
    "        aggregating the 'geral' and 'remuneracao_beneficios' columns by mean.\n",
    "        \"\"\"\n",
    "        aggregated_df  = df.groupby('nome').agg(\n",
    "            F.round(F.mean('geral'), 2).alias('geral'),\n",
    "            F.round(F.mean('remuneracao_beneficios'), 2).alias('remuneracao_beneficios')\n",
    "        )\n",
    "        return aggregated_df \n",
    "\n",
    "\n",
    "class ComplaintsTransformation(TransformData):\n",
    "    \"\"\"\n",
    "    Functions for transforming the pandas dataframe for complaints.\n",
    "    \"\"\"\n",
    "    def __init__(self, df: DataFrame):\n",
    "        \"\"\"\n",
    "        Receives the dataframe.\n",
    "        \"\"\"\n",
    "        self.df = df\n",
    "        self.column_rename = self.load_column_rename_mappings('ComplaintsTransformation')\n",
    "\n",
    "\n",
    "    def transform(self) -> DataFrame:\n",
    "        \"\"\"\n",
    "        Function to rename (to snake_case), format, and change data types.\n",
    "        Returns a dataframe.\n",
    "        \"\"\"\n",
    "        transformed_df = self.rename_columns(self.df, self.column_rename)\n",
    "\n",
    "        transformed_df = transformed_df\\\n",
    "            .withColumn(\"ano\", F.col('ano').cast(IntegerType()))\\\n",
    "            .withColumn('trimestre', F.col(\"trimestre\").cast(StringType()))\\\n",
    "            .withColumn('categoria', F.col(\"categoria\").cast(StringType()))\\\n",
    "            .withColumn('tipo', F.col(\"tipo\").cast(StringType()))\\\n",
    "            .withColumn(\"cnpj\", self.format_cnpj(F.col(\"cnpj_if\")))\\\n",
    "            .withColumn(\"nome\", F.regexp_replace(F.col(\"instituicao_financeira\").cast(StringType()), ' \\(conglomerado\\)', ''))\\\n",
    "            .withColumn(\"indice\", F.regexp_replace(F.col('indice').cast(StringType()), ',', '.').cast(DecimalType(20,2)))\\\n",
    "            .withColumn(\"qtd_reclamacoes_reguladas_procedentes\", F.col('qtd_reclamacoes_reguladas_procedentes').cast(DecimalType(20,2)))\\\n",
    "            .withColumn(\"qtd_reclamacoes_reguladas_outras\", F.col('qtd_reclamacoes_reguladas_outras').cast(DecimalType(20,2)))\\\n",
    "            .withColumn(\"qtd_reclamacoes_nao_reguladas\", F.col('qtd_reclamacoes_nao_reguladas').cast(DecimalType(20,2)))\\\n",
    "            .withColumn(\"qtd_total_reclamacoes\", F.col('qtd_total_reclamacoes').cast(DecimalType(20,2)))\\\n",
    "            .withColumn(\"qtd_total_clientes_ccs_scr\", F.col('qtd_total_clientes_ccs_scr').cast(DecimalType(20,2)))\\\n",
    "            .withColumn(\"qtd_clientes_ccs\", F.col('qtd_clientes_ccs').cast(DecimalType(20,2)))\\\n",
    "            .withColumn(\"qtd_clientes_scr\", F.col('qtd_clientes_scr').cast(DecimalType(20,2)))\n",
    "\n",
    "        return transformed_df\n",
    "\n",
    "\n",
    "    def calculate_aggregates(self, df) -> DataFrame:\n",
    "        \"\"\"\n",
    "        Function to return a pandas dataframe of a pivot table grouped by the 'name' column,\n",
    "        aggregating columns like 'indice', 'qtd_total_reclamacoes', and 'qtd_total_clientes_ccs_scr' by mean.\n",
    "        \"\"\"\n",
    "        aggregated_df  = df.groupby('nome').agg(\n",
    "            F.round(F.mean('indice'), 2).alias(\"indice\"),\n",
    "            F.round(F.mean('qtd_total_reclamacoes'), 2).alias(\"qtd_total_reclamacoes\"),\n",
    "            F.max('qtd_total_clientes_ccs_scr').alias(\"qtd_total_clientes_ccs_scr\")\n",
    "        )\n",
    "        return aggregated_df"
   ]
  },
  {
   "cell_type": "code",
   "execution_count": 82,
   "metadata": {},
   "outputs": [
    {
     "name": "stdout",
     "output_type": "stream",
     "text": [
      "Calculation started (calculation_id=ccc51213-4b36-2d29-7c02-93628deedf9e) in (session=10c511e9-f28c-dd73-bdeb-d9a2fcff333a). Checking calculation status...\n"
     ]
    },
    {
     "data": {
      "application/vnd.jupyter.widget-view+json": {
       "model_id": "24d6cbadde37468098cafbb110a1dea5",
       "version_major": 2,
       "version_minor": 0
      },
      "text/plain": [
       "Progress:   0%|          |elapsed time = 00:00s"
      ]
     },
     "metadata": {},
     "output_type": "display_data"
    },
    {
     "name": "stdout",
     "output_type": "stream",
     "text": [
      "Calculation completed.\n",
      "\n",
      "INFO:root:Count Reclama��es x Bancos: \n",
      "66\n",
      "INFO:root:Count Reclama��es x Bancos x Empregados: \n",
      "22\n"
     ]
    }
   ],
   "source": [
    "import pandas as pd\n",
    "import glob\n",
    "import os\n",
    "import logging\n",
    "# from load import LoadData\n",
    "# from write import DataWriter\n",
    "# from transform import BanksTransformation, EmployeesTransformation, ComplaintsTransformation\n",
    "\n",
    "\n",
    "def main():\n",
    "    \"\"\"\n",
    "    Initiates the main execution where a logger is initialized, the current directory is captured, and various tables are loaded,\n",
    "    transformed, concatenated into a single dataframe via join, and finally saved in a directory in the 'parquet' fixed format.\n",
    "    \"\"\"\n",
    "    logger = logging.getLogger(__name__)\n",
    "    logging.basicConfig(level=logging.INFO)\n",
    "\n",
    "    load_banks = LoadData(\n",
    "        spark=spark,\n",
    "        file_directory='s3://805766217211-raw/Bancos/', \n",
    "        file_type='tsv',\n",
    "        separator='\\t'\n",
    "    )\n",
    "    df_raw_banks = load_banks.load()\n",
    "\n",
    "    load_employees = LoadData(\n",
    "        spark=spark,\n",
    "        file_directory='s3://805766217211-raw/Empregados/', \n",
    "        file_type='csv',\n",
    "        separator='|'\n",
    "    )\n",
    "    df_raw_employees = load_employees.load()\n",
    "\n",
    "    load_complaints = LoadData(\n",
    "        spark=spark,\n",
    "        file_directory='s3://805766217211-raw/Reclamacoes_utf8/', \n",
    "        file_type='csv',\n",
    "        separator=';'\n",
    "    )\n",
    "    df_raw_complaints = load_complaints.load()\n",
    "\n",
    "    transform_banks = BanksTransformation(df_raw_banks)\n",
    "    df_banks = transform_banks.transform()\n",
    "\n",
    "    transform_employees = EmployeesTransformation(df_raw_employees)\n",
    "    df_employees = transform_employees.transform()\n",
    "    df_grouped_employees = transform_employees.calculate_aggregates(df_employees)\n",
    "\n",
    "    transform_complaints = ComplaintsTransformation(df_raw_complaints)\n",
    "    df_complaints = transform_complaints.transform()\n",
    "    df_grouped_complaints = transform_complaints.calculate_aggregates(df_complaints)\n",
    "\n",
    "    df_complaints_banks = df_banks.join(df_grouped_complaints, on=['nome'], how='inner')\n",
    "    logging.info(f'Count Reclama��es x Bancos: \\n{df_complaints_banks.count()}')\n",
    "\n",
    "    df_complaints_banks_employees = df_complaints_banks.join(df_grouped_employees, on=['nome'], how='inner')\n",
    "    logging.info(f'Count Reclama��es x Bancos x Empregados: \\n{df_complaints_banks_employees.count()}')\n",
    "\n",
    "    output_directory = 's3://805766217211-transformed/atividade03'\n",
    "    write_data = DataWriter()\n",
    "    write_data.write_parquet(df_complaints_banks_employees, output_directory)\n",
    "\n",
    "\n",
    "main()"
   ]
  },
  {
   "cell_type": "code",
   "execution_count": null,
   "metadata": {},
   "outputs": [],
   "source": []
  }
 ],
 "metadata": {
  "kernelspec": {
   "display_name": "Python 3",
   "language": "python",
   "name": "python3"
  },
  "language_info": {
   "codemirror_mode": {
    "name": "ipython",
    "version": 3
   },
   "file_extension": ".py",
   "mimetype": "text/x-python",
   "name": "python",
   "nbconvert_exporter": "python",
   "pygments_lexer": "ipython3",
   "version": "3.10.5"
  }
 },
 "nbformat": 4,
 "nbformat_minor": 1
}
